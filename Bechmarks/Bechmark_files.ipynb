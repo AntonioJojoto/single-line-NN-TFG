{
 "cells": [
  {
   "cell_type": "code",
   "execution_count": 1,
   "id": "6ae182a1",
   "metadata": {},
   "outputs": [],
   "source": [
    "# Apendear los datos del numpy, eficiente\n",
    "import glob\n",
    "import time\n",
    "import numpy as np\n",
    "import torch\n",
    "import h5py\n",
    "import time\n",
    "delay=0"
   ]
  },
  {
   "cell_type": "markdown",
   "id": "36e35987",
   "metadata": {},
   "source": [
    "# With delays between \n",
    "## Numpy's Format"
   ]
  },
  {
   "cell_type": "code",
   "execution_count": 8,
   "id": "f4df6c1d",
   "metadata": {},
   "outputs": [
    {
     "name": "stdout",
     "output_type": "stream",
     "text": [
      "It took 0.04090072115262349 seconds per file\n"
     ]
    }
   ],
   "source": [
    "names=glob.glob(\"data_norm/test_data_fixed/*.npz\")\n",
    "\n",
    "times = np.zeros([len(names),1])\n",
    "for a in range(len(names)):\n",
    "# Read the files, appending the variables\n",
    "    start=time.time()\n",
    "    npzfile=np.load(names[a])\n",
    "    X= npzfile[\"X1\"][:,:,:] \n",
    "    y= npzfile[\"y\"][:,0]\n",
    "    # Right now is getting the Z\n",
    "    \n",
    "    data=torch.from_numpy(X)\n",
    "    target=torch.from_numpy(y)\n",
    "    stop=time.time()\n",
    "    #time.sleep(delay)\n",
    "    times[a]=stop-start\n",
    "    \n",
    "print(\"It took \"+str(np.sum(times)/len(names))+\" seconds per file\")"
   ]
  },
  {
   "cell_type": "markdown",
   "id": "86cdd61a",
   "metadata": {},
   "source": [
    "## HDF5"
   ]
  },
  {
   "cell_type": "code",
   "execution_count": 9,
   "id": "9fccddb5",
   "metadata": {},
   "outputs": [
    {
     "name": "stdout",
     "output_type": "stream",
     "text": [
      "It took 0.03473345637321472 seconds per file\n"
     ]
    }
   ],
   "source": [
    "\n",
    "names=glob.glob(\"Mod_full_dist/test_data_fixed/*.hdf5\")\n",
    "times = np.zeros([len(names),1])\n",
    "for a in range(len(names)):\n",
    "# Read the files, appending the variables\n",
    "    start=time.time()\n",
    "    f = h5py.File(names[a],'r')\n",
    "    X=f['X1'][:,:,:]\n",
    "    y=f['y'][:,0]\n",
    "\n",
    "    # y needs convertion to angle\n",
    "    data=torch.tensor(X)\n",
    "    target=torch.tensor(y)\n",
    "    \n",
    "    stop=time.time()\n",
    "    #time.sleep(delay)\n",
    "    times[a]=stop-start\n",
    "        \n",
    "\n",
    "print(\"It took \"+str(np.sum(times)/len(names))+\" seconds per file\")"
   ]
  },
  {
   "cell_type": "code",
   "execution_count": 7,
   "id": "e0d29e9c",
   "metadata": {},
   "outputs": [
    {
     "data": {
      "text/plain": [
       "862"
      ]
     },
     "execution_count": 7,
     "metadata": {},
     "output_type": "execute_result"
    }
   ],
   "source": [
    "len(names)"
   ]
  },
  {
   "cell_type": "code",
   "execution_count": null,
   "id": "f5b90ef2",
   "metadata": {},
   "outputs": [],
   "source": []
  }
 ],
 "metadata": {
  "kernelspec": {
   "display_name": "Python 3",
   "language": "python",
   "name": "python3"
  },
  "language_info": {
   "codemirror_mode": {
    "name": "ipython",
    "version": 3
   },
   "file_extension": ".py",
   "mimetype": "text/x-python",
   "name": "python",
   "nbconvert_exporter": "python",
   "pygments_lexer": "ipython3",
   "version": "3.9.5"
  }
 },
 "nbformat": 4,
 "nbformat_minor": 5
}
